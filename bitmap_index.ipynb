{
 "cells": [
  {
   "cell_type": "code",
   "execution_count": 2,
   "metadata": {},
   "outputs": [],
   "source": [
    "import pandas as pd\n",
    "import numpy as np\n",
    "import math\n",
    "import time"
   ]
  },
  {
   "cell_type": "code",
   "execution_count": 3,
   "metadata": {},
   "outputs": [],
   "source": [
    "def reduce_level(bits, d):\n",
    "\tl = int(len(bits)/d)\n",
    "\tresult = []\n",
    "\n",
    "\tfor i in range(l):\n",
    "\t\tif sum(bits[i*d:(i+1)*d]) > 0:\n",
    "\t\t\tresult.append(1)\n",
    "\t\telse:\n",
    "\t\t\tresult.append(0)\n",
    "\n",
    "\treturn(result)"
   ]
  },
  {
   "cell_type": "code",
   "execution_count": 4,
   "metadata": {},
   "outputs": [],
   "source": [
    "def reduce_index(index, d):\n",
    "\tresult = []\n",
    "\n",
    "\tfor sublist in index:\n",
    "\t\tif len(sublist) > d:\n",
    "\t\t\tfor i in range(int(len(sublist)/d)):\n",
    "\t\t\t\tresult.append(sublist[i*d:(i+1)*d])\n",
    "\t\telse:\n",
    "\t\t\tresult.append(sublist)\n",
    "\n",
    "\tfinal_result = []\n",
    "\n",
    "\tfor r_list in result:\n",
    "\t\tif sum(r_list) > 0:\n",
    "\t\t\tfinal_result.append(r_list)\n",
    "\n",
    "\n",
    "\treturn(final_result)"
   ]
  },
  {
   "cell_type": "code",
   "execution_count": 5,
   "metadata": {},
   "outputs": [],
   "source": [
    "def create_index(input_set, d = 8):\n",
    "\tstart_time = time.time()\n",
    "\tflatten_input = list(set([ j for i in input_set.values() for j in i]))\n",
    "\tindex_dict = {}\n",
    "\tl = int(np.floor(math.log(len(flatten_input), d))) + 1\n",
    "\n",
    "\tprint(\"Index depth is gonna be {} (including root level) with d = {} and length of vocabulary = {}\".format(l,d,len(flatten_input)))\n",
    "\n",
    "\n",
    "\tprint(\"Size of index base = {}\".format(d**l))\n",
    "\n",
    "\tbitmap_index_size = 0\n",
    "\n",
    "\tfor i in range(1,l+1):\n",
    "\t\tbitmap_index_size += d**i\n",
    "\n",
    "\tprint(\"Length of bitmap index = {}\".format(bitmap_index_size))\n",
    "\n",
    "\n",
    "\tfor i in range(len(flatten_input)):\n",
    "\t\tindex_dict[flatten_input[i]] = [1 if j == i else 0 for j in range(d**l)]\n",
    "\n",
    "\t# print(index_dict)\n",
    "\n",
    "\tbitmap_index = [[0 for i in range(d)] for i in range(int(bitmap_index_size/d))]\n",
    "\n",
    "\t# print(bitmap_index)\n",
    "\n",
    "\tindex_set = {}\n",
    "\n",
    "\n",
    "\tfor key in input_set.keys():\n",
    "\t\tindex = [0 for i in range(d**l)]\n",
    "\t\tfor i in input_set[key]:\n",
    "\t\t\tindex = [x+y for x,y in zip(index,index_dict[i])]\n",
    "\t\t\n",
    "\t\tlast_level_index = index\n",
    "\n",
    "\t\tfinal_index = []\n",
    "\t\tfinal_index.append(index)\n",
    "\n",
    "\t\twhile len(reduce_level(last_level_index,d)) >= d:\n",
    "\t\t\ttemp_index = reduce_level(last_level_index,d)\n",
    "\t\t\tfinal_index = [temp_index] + final_index\n",
    "\t\t\tlast_level_index = temp_index\n",
    "\n",
    "\t\tfinal_index = reduce_index(final_index, d)\n",
    "\n",
    "\t\tindex_set[key] = final_index\n",
    "\tend_time = time.time()\n",
    "    \n",
    "\tprint(\"Index built took about {} seconds\".format(end_time - start_time))\n",
    "\n",
    "\t#return dict with same keys but with index\n",
    "\treturn index_set"
   ]
  },
  {
   "cell_type": "code",
   "execution_count": 6,
   "metadata": {},
   "outputs": [
    {
     "name": "stdout",
     "output_type": "stream",
     "text": [
      "Index depth is gonna be 2 (including root level) with d = 8 and length of vocabulary = 24\n",
      "Size of index base = 64\n",
      "Length of bitmap index = 72\n",
      "Index built took about 0.0005474090576171875 seconds\n",
      "{0: [[0, 1, 1, 0, 0, 0, 0, 0], [0, 0, 0, 0, 0, 0, 1, 0], [0, 0, 1, 0, 0, 0, 0, 0]], 1: [[1, 1, 1, 0, 0, 0, 0, 0], [0, 1, 0, 0, 0, 0, 0, 0], [0, 0, 0, 0, 0, 0, 1, 0], [0, 0, 1, 0, 0, 0, 0, 0]], 2: [[1, 1, 1, 0, 0, 0, 0, 0], [0, 1, 0, 0, 0, 1, 0, 0], [0, 0, 0, 0, 0, 0, 1, 0], [1, 0, 1, 0, 0, 0, 0, 0]], 3: [[1, 1, 1, 0, 0, 0, 0, 0], [1, 0, 1, 0, 0, 0, 0, 0], [1, 1, 0, 0, 0, 0, 0, 0], [0, 0, 0, 0, 0, 1, 1, 0]], 4: [[1, 0, 1, 0, 0, 0, 0, 0], [0, 0, 0, 1, 0, 0, 0, 0], [0, 0, 0, 0, 1, 0, 0, 1]], 5: [[1, 1, 1, 0, 0, 0, 0, 0], [0, 0, 0, 0, 1, 0, 1, 1], [0, 0, 1, 1, 1, 0, 0, 1], [0, 1, 0, 1, 0, 0, 0, 0]], 6: [[0, 1, 0, 0, 0, 0, 0, 0], [0, 0, 0, 0, 0, 1, 0, 0]]}\n"
     ]
    }
   ],
   "source": [
    "input = [['A','B'],['A','B','C'],['A','B','C','D','E'],['F','G','H','Z','L','M'],['N','O','P'],['AA','BB','CC','DD','EE','FF','GSDF','KYT','ADS'],['Fds']]\n",
    "# input = [['A','B'],['A','B','C']]\n",
    "input_as_dict = {}\n",
    "\n",
    "for i in range(len(input)):\n",
    "\tinput_as_dict[i] = input[i]\n",
    "\n",
    "\n",
    "\n",
    "indexed_input = create_index(input_as_dict)\n",
    "\n",
    "print(indexed_input)\n"
   ]
  },
  {
   "cell_type": "code",
   "execution_count": 7,
   "metadata": {},
   "outputs": [],
   "source": [
    "#market basket data\n",
    "#data preparation\n",
    "data_df = pd.read_csv('order_products__train.csv', nrows = 200000)\n",
    "\n",
    "data_dict = {}\n",
    "\n",
    "for index,row in data_df.iterrows():\n",
    "    if row['order_id'] not in data_dict.keys():\n",
    "        data_dict[row['order_id']] = [str(row['product_id'])]\n",
    "    else:\n",
    "        data_dict[row['order_id']].append(str(row['product_id']))\n",
    "\n",
    "# data_list = [v for _,v in data_dict.items()]"
   ]
  },
  {
   "cell_type": "code",
   "execution_count": 8,
   "metadata": {},
   "outputs": [
    {
     "name": "stdout",
     "output_type": "stream",
     "text": [
      "Index depth is gonna be 5 (including root level) with d = 8 and length of vocabulary = 22311\n",
      "Size of index base = 32768\n",
      "Length of bitmap index = 37448\n",
      "Index built took about 1036.930163860321 seconds\n"
     ]
    }
   ],
   "source": [
    "indexed_data_dict = create_index(data_dict)"
   ]
  },
  {
   "cell_type": "code",
   "execution_count": 10,
   "metadata": {},
   "outputs": [
    {
     "name": "stdout",
     "output_type": "stream",
     "text": [
      "[[1, 0, 1, 0, 1, 1, 0, 0], [0, 1, 1, 0, 0, 0, 0, 0], [0, 0, 0, 1, 1, 0, 0, 0], [0, 1, 0, 0, 0, 0, 0, 0], [0, 0, 0, 1, 0, 0, 0, 0], [0, 0, 0, 0, 0, 1, 0, 0], [0, 0, 0, 1, 0, 1, 0, 0], [0, 1, 0, 0, 0, 0, 0, 0], [0, 0, 1, 0, 0, 0, 0, 0], [1, 0, 0, 0, 0, 0, 0, 0], [0, 0, 0, 1, 0, 0, 0, 0], [0, 0, 0, 0, 1, 0, 0, 0], [0, 0, 1, 0, 1, 0, 0, 0], [0, 0, 0, 0, 0, 0, 1, 0], [0, 0, 0, 0, 0, 1, 0, 0], [0, 1, 0, 0, 0, 0, 0, 0], [0, 0, 0, 0, 0, 0, 0, 1], [0, 0, 0, 0, 1, 0, 0, 0], [0, 0, 0, 0, 0, 1, 0, 0], [0, 0, 0, 0, 0, 1, 0, 0], [0, 0, 1, 0, 0, 0, 0, 0], [0, 0, 0, 0, 0, 0, 1, 0], [0, 0, 0, 1, 0, 0, 0, 0], [0, 0, 0, 1, 0, 0, 0, 0], [0, 0, 0, 1, 0, 0, 0, 0], [0, 0, 1, 0, 0, 0, 0, 0]]\n"
     ]
    }
   ],
   "source": [
    "print(indexed_data_dict[1])"
   ]
  }
 ],
 "metadata": {
  "kernelspec": {
   "display_name": "Python 3",
   "language": "python",
   "name": "python3"
  },
  "language_info": {
   "codemirror_mode": {
    "name": "ipython",
    "version": 3
   },
   "file_extension": ".py",
   "mimetype": "text/x-python",
   "name": "python",
   "nbconvert_exporter": "python",
   "pygments_lexer": "ipython3",
   "version": "3.5.2"
  }
 },
 "nbformat": 4,
 "nbformat_minor": 2
}

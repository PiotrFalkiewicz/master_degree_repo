{
 "cells": [
  {
   "cell_type": "code",
   "execution_count": 10,
   "metadata": {},
   "outputs": [
    {
     "name": "stderr",
     "output_type": "stream",
     "text": [
      "Using TensorFlow backend.\n"
     ]
    }
   ],
   "source": [
    "import gensim\n",
    "from collections import Counter\n",
    "from keras.preprocessing.sequence import skipgrams\n",
    "import numpy as np\n",
    "import pandas as pd\n",
    "from scipy.sparse import csr_matrix\n",
    "from scipy.sparse.linalg import svds\n",
    "from nltk.corpus import stopwords\n",
    "from sklearn.metrics.pairwise import cosine_similarity"
   ]
  },
  {
   "cell_type": "code",
   "execution_count": 23,
   "metadata": {},
   "outputs": [],
   "source": [
    "#data preparation\n",
    "data_df = pd.read_csv('order_products__train.csv')\n",
    "\n",
    "data_dict = {}\n",
    "\n",
    "for index,row in data_df.iterrows():\n",
    "    if row['order_id'] not in data_dict.keys():\n",
    "        data_dict[row['order_id']] = [str(row['product_id'])]\n",
    "    else:\n",
    "        data_dict[row['order_id']].append(str(row['product_id']))\n",
    "\n",
    "    "
   ]
  },
  {
   "cell_type": "code",
   "execution_count": 24,
   "metadata": {
    "scrolled": true
   },
   "outputs": [
    {
     "name": "stdout",
     "output_type": "stream",
     "text": [
      "[['19204', '39698', '48290', '32000', '40463', '20682', '13176', '11526', '33890', '5025', '14161', '9387', '13931', '33198', '43123', '45351', '5618'], ['49302', '11109', '10246', '49683', '43633', '13176', '47209', '22035'], ['4605', '45123', '12456', '44580', '24009', '39619', '39947', '46138'], ['21781', '4421', '39009', '36431', '30233', '5097', '47209', '28427', '2513'], ['27652', '38444', '3828', '4136'], ['2855', '17758', '10761', '12745', '10912', '34993', '31288', '37947', '11408', '27966', '13176', '27521', '46979', '12614', '39984', '21376', '34160', '15602', '11933', '39527', '16254', '6292'], ['17368', '47626', '28985', '26209', '4366', '45123', '24964', '7325', '31717', '35140', '25659', '24852', '4605', '5373', '13212', '38650', '45535', '16744', '21009', '10025', '17462'], ['11351', '38511', '48705', '10084', '10823', '24391', '6201', '54', '5349', '480', '24385', '19252', '14168', '39046', '48531', '27428', '8836'], ['31759'], ['22504', '33000', '19508', '24852', '10305', '29941', '25340', '22169']]\n"
     ]
    }
   ],
   "source": [
    "data_list = [v for _,v in data_dict.items()]\n",
    "\n",
    "print(data_list[:10])"
   ]
  },
  {
   "cell_type": "code",
   "execution_count": null,
   "metadata": {},
   "outputs": [],
   "source": [
    "            "
   ]
  },
  {
   "cell_type": "code",
   "execution_count": null,
   "metadata": {},
   "outputs": [],
   "source": []
  }
 ],
 "metadata": {
  "kernelspec": {
   "display_name": "Python 3",
   "language": "python",
   "name": "python3"
  },
  "language_info": {
   "codemirror_mode": {
    "name": "ipython",
    "version": 3
   },
   "file_extension": ".py",
   "mimetype": "text/x-python",
   "name": "python",
   "nbconvert_exporter": "python",
   "pygments_lexer": "ipython3",
   "version": "3.5.2"
  }
 },
 "nbformat": 4,
 "nbformat_minor": 2
}

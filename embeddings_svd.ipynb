{
 "cells": [
  {
   "cell_type": "code",
   "execution_count": 20,
   "metadata": {},
   "outputs": [],
   "source": [
    "import gensim\n",
    "from collections import Counter\n",
    "from itertools import combinations\n",
    "import numpy as np\n",
    "import pandas as pd\n",
    "from scipy.sparse import csc_matrix\n",
    "from scipy.sparse.linalg import svds\n",
    "from math import log"
   ]
  },
  {
   "cell_type": "code",
   "execution_count": 2,
   "metadata": {},
   "outputs": [],
   "source": [
    "#data preparation\n",
    "data_df = pd.read_csv('order_products__train.csv')\n",
    "\n",
    "data_dict = {}\n",
    "\n",
    "for index,row in data_df.iterrows():\n",
    "    if row['order_id'] not in data_dict.keys():\n",
    "        data_dict[row['order_id']] = [str(row['product_id'])]\n",
    "    else:\n",
    "        data_dict[row['order_id']].append(str(row['product_id']))\n",
    "\n",
    "    "
   ]
  },
  {
   "cell_type": "code",
   "execution_count": 3,
   "metadata": {
    "scrolled": true
   },
   "outputs": [],
   "source": [
    "data_list = [v for _,v in data_dict.items()]"
   ]
  },
  {
   "cell_type": "code",
   "execution_count": 8,
   "metadata": {},
   "outputs": [],
   "source": [
    "unigrams_cnt = Counter()\n",
    "bigrams_cnt = Counter()\n",
    "for text in data_list:\n",
    "    for x in text:\n",
    "        unigrams_cnt[x] += 1\n",
    "    for x, y in map(sorted, combinations(text, 2)):\n",
    "        bigrams_cnt[(x, y)] += 1\n"
   ]
  },
  {
   "cell_type": "code",
   "execution_count": 9,
   "metadata": {
    "scrolled": true
   },
   "outputs": [],
   "source": [
    "id2uni = {}\n",
    "uni2id = {}\n",
    "it = 0\n",
    "\n",
    "for uni,_ in unigrams_cnt.items():\n",
    "    id2uni[it] = uni\n",
    "    uni2id[uni] = it\n",
    "    it +=1    "
   ]
  },
  {
   "cell_type": "code",
   "execution_count": 14,
   "metadata": {},
   "outputs": [],
   "source": [
    "sum_uni = sum(unigrams_cnt.values())\n",
    "sum_bi = sum(bigrams_cnt.values())"
   ]
  },
  {
   "cell_type": "code",
   "execution_count": 21,
   "metadata": {},
   "outputs": [],
   "source": [
    "pmi_samples = Counter()\n",
    "data, rows, cols = [], [], []\n",
    "for (x, y), n in bigrams_cnt.items():\n",
    "    rows.append(uni2id[x])\n",
    "    cols.append(uni2id[y])\n",
    "    data.append(log((n / sum_bi) / (unigrams_cnt[x] / sum_uni) / (unigrams_cnt[y] / sum_uni)))\n",
    "    pmi_samples[(x, y)] = data[-1]\n",
    "PMI = csc_matrix((data, (rows, cols)))"
   ]
  },
  {
   "cell_type": "code",
   "execution_count": 23,
   "metadata": {},
   "outputs": [],
   "source": [
    "U,_,_ = svds(PMI, k = 300)\n",
    "norms = np.sqrt(np.sum(np.square(U), axis=1, keepdims=True))\n",
    "U /= np.maximum(norms, 1e-7)"
   ]
  },
  {
   "cell_type": "code",
   "execution_count": 27,
   "metadata": {},
   "outputs": [
    {
     "name": "stdout",
     "output_type": "stream",
     "text": [
      "19204, 74\n",
      " (22190, 0.469) (10968, 0.443) (21527, 0.382) (37599, 0.433) (25587, 0.381) (1577, 0.369) (18406, 0.353) (1306, 0.311) (23263, 0.332) (39248, 0.310) \n"
     ]
    }
   ],
   "source": [
    "k = 10\n",
    "x = '19204'\n",
    "dd = np.dot(U, U[uni2id[x]])\n",
    "s = ''\n",
    "\n",
    "for i in np.argpartition(-1 * dd, k + 1)[:k + 1]:\n",
    "    if id2uni[i] == x: continue\n",
    "    s += '(%s, %.3lf) ' % (id2uni[i], dd[i])\n",
    "print('%s, %d\\n %s' % (x, unigrams_cnt[x], s))\n",
    "# "
   ]
  }
 ],
 "metadata": {
  "kernelspec": {
   "display_name": "Python 3",
   "language": "python",
   "name": "python3"
  },
  "language_info": {
   "codemirror_mode": {
    "name": "ipython",
    "version": 3
   },
   "file_extension": ".py",
   "mimetype": "text/x-python",
   "name": "python",
   "nbconvert_exporter": "python",
   "pygments_lexer": "ipython3",
   "version": "3.5.2"
  }
 },
 "nbformat": 4,
 "nbformat_minor": 2
}

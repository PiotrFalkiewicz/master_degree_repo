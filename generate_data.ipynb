{
 "cells": [
  {
   "cell_type": "code",
   "execution_count": 3,
   "metadata": {},
   "outputs": [],
   "source": [
    "import pandas as pd\n",
    "import random"
   ]
  },
  {
   "cell_type": "code",
   "execution_count": 2,
   "metadata": {},
   "outputs": [],
   "source": [
    "data_df = pd.read_csv('order_products__train.csv')\n",
    "\n",
    "data_dict = {}\n",
    "\n",
    "for _,row in data_df.iterrows():\n",
    "    if row['order_id'] not in data_dict.keys():\n",
    "        data_dict[row['order_id']] = [str(row['product_id'])]\n",
    "    else:\n",
    "        data_dict[row['order_id']].append(str(row['product_id']))"
   ]
  },
  {
   "cell_type": "code",
   "execution_count": 56,
   "metadata": {},
   "outputs": [],
   "source": [
    "random_data = []\n",
    "keys = [k for k,_ in data_dict.items() if data_dict[k]]\n",
    "\n",
    "import numpy as np\n",
    "np.random.seed(14231)\n",
    "for k in keys:\n",
    "    values = data_dict[k]\n",
    "    temp = keys\n",
    "    temp.remove(k)\n",
    "    for element in values:\n",
    "        other_transaction = random.choice(temp)\n",
    "        temp2 = data_dict[k]\n",
    "        temp2.remove(element)\n",
    "        other_values = data_dict[other_transaction]\n",
    "        values = []\n",
    "        values.append(random.choice(temp))\n",
    "        values.append(random.choice(temp))\n",
    "        values.append(random.choice(other_values))\n",
    "        values.append(random.choice(other_values))\n",
    "        random.shuffle(values)\n",
    "        random_data.append([values[0],values[1],element,values[2],values[3]])\n",
    "    \n",
    "    "
   ]
  },
  {
   "cell_type": "code",
   "execution_count": 64,
   "metadata": {},
   "outputs": [],
   "source": [
    "with open('generated_data.csv','w') as file:\n",
    "    for line in random_data:\n",
    "        temp = [str(element) for element in line]\n",
    "        file.write(\"{}{}\".format(\",\".join(temp),\"\\n\"))"
   ]
  }
 ],
 "metadata": {
  "kernelspec": {
   "display_name": "Python 3",
   "language": "python",
   "name": "python3"
  },
  "language_info": {
   "codemirror_mode": {
    "name": "ipython",
    "version": 3
   },
   "file_extension": ".py",
   "mimetype": "text/x-python",
   "name": "python",
   "nbconvert_exporter": "python",
   "pygments_lexer": "ipython3",
   "version": "3.5.2"
  }
 },
 "nbformat": 4,
 "nbformat_minor": 2
}
